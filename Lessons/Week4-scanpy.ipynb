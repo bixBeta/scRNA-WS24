{
 "cells": [
  {
   "cell_type": "markdown",
   "id": "66e01809-185e-47ed-8088-5a6890789dca",
   "metadata": {},
   "source": [
    "# Pre-processing scRNA-seq data with scanpy\n",
    "\n",
    "Melissa Hubisz, mt269@cornell.edu\n",
    "\n",
    "TREX x BioHPC Single cell RNA-workshop Week 4 exercise"
   ]
  },
  {
   "cell_type": "markdown",
   "id": "7d6296e2-c048-408c-b474-14ffc032d461",
   "metadata": {},
   "source": [
    "### Notes about scanpy"
   ]
  },
  {
   "cell_type": "markdown",
   "id": "8c48c502-7abd-46ab-b491-34d35ff50b3e",
   "metadata": {},
   "source": [
    "Scanpy is a python package for analyzing single-cell data. It has many of the same types of functions offered by Seurat, but is also quite different.\n",
    "\n",
    "One important difference is simply that the scRNA object is transposed, with each cell representing a row and each column representing a gene\n",
    "\n",
    "The scRNA data is stored in an \"AnnData\" object (short for annotated data). The object has several fields:\n",
    "- adata.X: count matrix\n",
    "- adata.layers: a dictionary object, each element contains an alternative/transposed count matrices, i.e., adata.layers[\"logX\"] may contain the log-normalized matrix\n",
    "- adata.obs: a DataFrame with one row per cell, each column contains an annotation about the cell, i.e, sample name, condition, mtRNA fraction, library size\n",
    "- adata.var: a DataFrame with one row per gene, each column represents an annotation about the gene, i.e., highly variable, short name, ensembl ID\n",
    "- adata.obsm: a dictionary object, each element contains a matrix with a row per cell, but arbitrary number of columns. For example, adata.obsm['X_pca'] may contain principal components\n",
    "- adata.varm: a dictionary object, each element contains a matrix with a row per gene, but arbitrary number of columns.\n",
    "- adata.uns: a dictionary object, there are no restrictions on what can be stored in each element, can contain any further information. Often used to store PCA/UMAP parameters."
   ]
  },
  {
   "cell_type": "markdown",
   "id": "17a21894-adef-4ce4-8d9e-73ed4ff15ac3",
   "metadata": {},
   "source": [
    "Scanpy has several types of functions, it helps to understand the naming conventions:\n",
    "- sc.pp functions are 'preprocessing' functions (QC, highly variable genes, normalizing, nearest neighbors)\n",
    "- sc.tl functions are 'tools': PC, UMAP, clustering, trajectory inference, marker genes\n",
    "- sc.pl functions are plotting functions. There is usually a plotting function associated with each tool function. For example, compute UMAP with sc.tl.umap, plot it with sc.pl.umap\n",
    "- sce is an auxiliary library for 'scanpy external' functions, where the main code is in another library but sce library contains wrappers to it"
   ]
  },
  {
   "cell_type": "markdown",
   "id": "e5591c67-3ff6-47ab-b36f-1e9975984260",
   "metadata": {},
   "source": [
    "### Notes about working in jupyter notebooks"
   ]
  },
  {
   "cell_type": "markdown",
   "id": "c2b055ba-f65a-491e-bc89-513d84991399",
   "metadata": {},
   "source": [
    "- each 'box' is called a cell, one cell is always selected\n",
    "- There are two modes: Edit mode and Command Mode\n",
    "    - `Enter` to enter edit mode\n",
    "    - `Esc` to enter command mode\n",
    "- In either mode:\n",
    "    - `Shift`+`Enter` will execute cell and advance to next cell\n",
    "    - `Ctrl`+`Enter` will execute cell without advancing\n",
    "    - `Ctrl`+`s` to save notebook\n",
    "    - `Ctrl`+`Shift`+`h` to open pop-up with keyboard shortcuts\n",
    "- In Edit mode:\n",
    "    - you will see a cursor in active cell\n",
    "    - cell may be in __Code__ or __Markdown__ mode\n",
    "    - In code mode, can use `Tab` to code completion, or `Shift`+`Tab` for function help (with cursor right after open parentheses of function)\n",
    "    - `Ctrl`+`Shift`+`-` will split cell at cursor position\n",
    "    - `Ctrl`+`z` to undo last edit\n",
    "- In Command mode:\n",
    "    - press `a` to add new cell *after* current cell\n",
    "    - press `b` to add new cell *before* current cell\n",
    "    - press `d`+`d` to delete current cell\n",
    "    - press `m` to switch cell to markdown mode\n",
    "    - press `y` to switch cell to code from markdown\n",
    "    - press `z` to undo previous command mode operation\n",
    "    - switching from markdown and back to code `ym` is fast way to clear output\n",
    "    - `Shift`+`m` will merge current cell with next cell\n",
    "- You can execute system commands within a cell using a line that starts with an exclamation point !  For example, you can install a library with a line like: `! pip install scrublet`. Make sure to save your image after installing any libraries\n"
   ]
  },
  {
   "cell_type": "markdown",
   "id": "1dfadefa-76cf-470d-9ede-0a8ae4ca5cf2",
   "metadata": {},
   "source": [
    "## Import python libraries"
   ]
  },
  {
   "cell_type": "code",
   "execution_count": null,
   "id": "de99fdda-fb19-41d7-a93e-71ccc6a551ca",
   "metadata": {},
   "outputs": [],
   "source": [
    "import os\n",
    "import numpy as np\n",
    "import scanpy as sc\n",
    "import scanpy.external as sce\n",
    "import pandas as pd\n",
    "import matplotlib.pyplot as plt\n",
    "from scipy.stats import gaussian_kde\n",
    "import seaborn as sns\n",
    "import glob\n",
    "import gc\n",
    "import anndata2ri\n",
    "import random\n",
    "from sklearn.metrics.cluster import adjusted_rand_score\n",
    "%load_ext rpy2.ipython"
   ]
  },
  {
   "cell_type": "markdown",
   "id": "1292c0a8-5095-4ed6-bbdc-81b37a55fc27",
   "metadata": {},
   "source": [
    "## Read in data\n",
    "\n",
    "In this section, we find the h5 files to read in, and use the scanpy read_10x_h5 function to load them into an anndata structure. "
   ]
  },
  {
   "cell_type": "code",
   "execution_count": null,
   "id": "d5a601b0-1c2f-4539-b685-4fb8caefb25e",
   "metadata": {},
   "outputs": [],
   "source": [
    "!mkdir -p /data/scanpy\n",
    "os.chdir(\"/data/scanpy\")"
   ]
  },
  {
   "cell_type": "code",
   "execution_count": null,
   "id": "c87685a0-623e-4d6a-af26-314be125e100",
   "metadata": {},
   "outputs": [],
   "source": [
    "adata_files = glob.glob('/workdir/sc_workshop_2024/GSE201999_output/**/filtered_feature_bc_matrix.h5', recursive=True)\n",
    "adata_files"
   ]
  },
  {
   "cell_type": "code",
   "execution_count": null,
   "id": "e29cf29b-27fd-4d0d-af35-cf684d2d0e3d",
   "metadata": {},
   "outputs": [],
   "source": [
    "adata_list = []\n",
    "idx=1\n",
    "for i,f in enumerate(adata_files):\n",
    "    sampleName = f.split('/')[4].replace('_output', '')\n",
    "    print(f'Reading sample {i}: {sampleName} from {f}')\n",
    "    adata = sc.read_10x_h5(f)\n",
    "    adata.var_names_make_unique()\n",
    "    print('Done reading: numcell=' + str(adata.shape[0]) + ', numgene=' + str(adata.shape[1]))\n",
    "\n",
    "    # add sample name annotation\n",
    "    adata.obs['sample'] = sampleName\n",
    "\n",
    "    # The cell name is barcode + '-1'. Change this to barcode + '-' + sample number\n",
    "    adata.obs.index = [x.split('-')[0] + '-' + str(i+1) for x in adata.obs.index]\n",
    "\n",
    "    adata_list.append(adata)"
   ]
  },
  {
   "cell_type": "markdown",
   "id": "18d1b17c-b06e-42ec-a8bc-8a01880e31c2",
   "metadata": {},
   "source": [
    "## Concatenate"
   ]
  },
  {
   "cell_type": "code",
   "execution_count": null,
   "id": "d6932463-fd0a-4441-af7e-9e09541ebe2a",
   "metadata": {},
   "outputs": [],
   "source": [
    "adata = sc.concat(adata_list)"
   ]
  },
  {
   "cell_type": "code",
   "execution_count": null,
   "id": "668453aa-5166-42e9-8f6f-fa58e89d019d",
   "metadata": {},
   "outputs": [],
   "source": [
    "adata"
   ]
  },
  {
   "cell_type": "code",
   "execution_count": null,
   "id": "cdb6713e-79a3-40bf-b0a0-f230e1d9aae9",
   "metadata": {},
   "outputs": [],
   "source": [
    "adata.obs"
   ]
  },
  {
   "cell_type": "code",
   "execution_count": null,
   "id": "f8411a5a-0716-4602-8164-6126e1667d9b",
   "metadata": {},
   "outputs": [],
   "source": [
    "# this shows number of cells per sample\n",
    "adata.obs['sample'].value_counts()"
   ]
  },
  {
   "cell_type": "markdown",
   "id": "b26d5930-36f6-41ab-b068-28a0e3fb0fb9",
   "metadata": {},
   "source": [
    "### Annotate library size and mitochondrial fraction\n",
    "\n",
    "note that adata.X is a sparse Matrix so it takes a bit of ugly code to convert the result to a 1-dimensional python array in the following cells"
   ]
  },
  {
   "cell_type": "code",
   "execution_count": null,
   "id": "befeab7e-d7d7-4f58-af00-c05719ade2ff",
   "metadata": {},
   "outputs": [],
   "source": [
    "adata.obs['nCount_RNA'] = np.array(np.sum(adata.X, axis=1)).flatten()\n",
    "adata.obs['nFeature_RNA'] = np.array(np.sum(adata.X > 0, axis=1)).flatten()"
   ]
  },
  {
   "cell_type": "code",
   "execution_count": null,
   "id": "e98e5b36-4d83-456e-b69d-9ca1dbdebbf8",
   "metadata": {},
   "outputs": [],
   "source": [
    "# also annotate number of expressing cells per gene\n",
    "adata.var['nCell'] = np.array(np.sum(adata.X > 0, axis=0)).flatten()"
   ]
  },
  {
   "cell_type": "code",
   "execution_count": null,
   "id": "c4c17129-bc97-4ca8-a6d8-c0ccae65e680",
   "metadata": {},
   "outputs": [],
   "source": [
    "mt_genes = [x for x in adata.var.index if x.startswith('MT-')]\n",
    "mt_genes"
   ]
  },
  {
   "cell_type": "code",
   "execution_count": null,
   "id": "6a4e5846-a744-4592-a4a8-0ba0f8088e82",
   "metadata": {},
   "outputs": [],
   "source": [
    "adata.obs['mt_frac'] = np.array(np.sum(adata[:,mt_genes].X, axis=1)).flatten()/adata.obs['nCount_RNA']"
   ]
  },
  {
   "cell_type": "code",
   "execution_count": null,
   "id": "66f0a820-4d18-49b8-93cd-3842e4f6946e",
   "metadata": {},
   "outputs": [],
   "source": [
    "adata.obs"
   ]
  },
  {
   "cell_type": "markdown",
   "id": "7314dd0f-0624-434f-bbd1-e21feb429c74",
   "metadata": {},
   "source": [
    "## Filter data"
   ]
  },
  {
   "cell_type": "markdown",
   "id": "6bebcb43-163d-4ab8-b2c5-10ee1e7816f2",
   "metadata": {},
   "source": [
    "### Remove genes expressed by few cells\n",
    "\n",
    "note: can alternatively use `sc.pp.filter_genes(adata, min_counts=10)`.  Usually, if I can get something done with a few lines of manual code, I prefer this over calling a function from some library. It is easier to know for sure what the code is doing.\n",
    "\n",
    "In the first plot, we look at distribution of number of expressed cells per gene, and in the second plot, we zoom in to see the distribution closer to the potential cutoff."
   ]
  },
  {
   "cell_type": "markdown",
   "id": "b26df4e2-689b-4f69-91de-fcf020bcd6c8",
   "metadata": {},
   "source": [
    "We will not save all plots in this notebook, but we will save this one to demonstrate how to do it:"
   ]
  },
  {
   "cell_type": "code",
   "execution_count": null,
   "id": "d62e01fa-45b4-44bb-9513-27288c19c6bf",
   "metadata": {},
   "outputs": [],
   "source": [
    "plt.subplots(figsize=(6,4))\n",
    "plt.hist(adata.var['nCell'], bins=50)\n",
    "plt.xlabel('Number of expressed cells per gene')\n",
    "plt.ylabel('NUmber of genes')\n",
    "plt.savefig(f'number_of_genes_per_cell.png', dpi=300)"
   ]
  },
  {
   "cell_type": "code",
   "execution_count": null,
   "id": "233dd413-5c10-461b-a62d-878921f14146",
   "metadata": {},
   "outputs": [],
   "source": [
    "plt.subplots(figsize=(6,4))\n",
    "plt.hist(adata.var.loc[adata.var['nCell'] < 100, 'nCell'], bins=100)\n",
    "plt.xlabel('Number of expressed cells per gene (zoomed in to 0 < x < 100)')\n",
    "plt.ylabel('NUmber of genes')"
   ]
  },
  {
   "cell_type": "markdown",
   "id": "f9b4b5fe-1d9e-4d57-bece-e6c875f35c46",
   "metadata": {},
   "source": [
    "Now that we have looked at the distribution, we can choose a cutoff and filter genes"
   ]
  },
  {
   "cell_type": "code",
   "execution_count": null,
   "id": "74bafcd5-a261-4610-b285-6577826a1592",
   "metadata": {},
   "outputs": [],
   "source": [
    "mincell = 10\n",
    "f = adata.var['nCell'] < mincell\n",
    "print('Removing ' + str(sum(f)) + ' genes expressed by fewer than ' + str(mincell) + ' cells')\n",
    "adata = adata[:,~f]"
   ]
  },
  {
   "cell_type": "code",
   "execution_count": null,
   "id": "512f5b93-c339-475b-86d2-5adb7426a792",
   "metadata": {},
   "outputs": [],
   "source": [
    "adata.shape"
   ]
  },
  {
   "cell_type": "markdown",
   "id": "3895605d-139c-4b22-9c8c-f6b369fb1aa1",
   "metadata": {},
   "source": [
    "### Remove cells with high mitochondrial content\n",
    "\n",
    "The code below is a little ugly butmakes a nice 2d histogram showing mt_frac as a function of UMI count. There are many ways to visualize this."
   ]
  },
  {
   "cell_type": "code",
   "execution_count": null,
   "id": "83dd1010-ec60-4b6c-8f7d-52e0caea8645",
   "metadata": {},
   "outputs": [],
   "source": [
    "# first, plot mt_frac vs library size for each sample. Use gaussian_kde to make 2-d density plot\n",
    "for sample in adata.obs['sample'].unique():\n",
    "    f = adata.obs['sample'] == sample\n",
    "    x = adata.obs.loc[f,'nCount_RNA']\n",
    "    y = adata.obs.loc[f,'mt_frac']\n",
    "    xy = np.vstack([x, y ])\n",
    "    z = np.arcsinh(gaussian_kde(xy)(xy))\n",
    "    plt.scatter(x, y, c=z)\n",
    "    plt.xlabel('total UMIs')\n",
    "    plt.ylabel('mt_frac')\n",
    "    plt.title(sample)\n",
    "    cb = plt.colorbar()\n",
    "    plt.show()"
   ]
  },
  {
   "cell_type": "markdown",
   "id": "e654d77b-99b5-4228-8f37-513a771f9a04",
   "metadata": {},
   "source": [
    "### Explore distributions of metadata statistics\n",
    "\n",
    "After looking at distributions, can choose appropriate cutoffs"
   ]
  },
  {
   "cell_type": "code",
   "execution_count": null,
   "id": "5ba34073-3eab-4528-940f-d336e9d68577",
   "metadata": {},
   "outputs": [],
   "source": [
    "adata.obs['NoveltyScore'] = np.log10(adata.obs['nFeature_RNA'])/np.log10(adata.obs['nCount_RNA'])"
   ]
  },
  {
   "cell_type": "code",
   "execution_count": null,
   "id": "60bce951-457f-4c78-8be9-fd0e46657081",
   "metadata": {},
   "outputs": [],
   "source": [
    "adata.obs"
   ]
  },
  {
   "cell_type": "code",
   "execution_count": null,
   "id": "b0f3bfca-1b0e-4c7d-b500-f6faab1e8504",
   "metadata": {},
   "outputs": [],
   "source": [
    "for x in adata.obs.columns[1:]:\n",
    "    sns.violinplot(data=adata.obs, x='sample', hue='sample', y=x, log_scale=(x in ['nCount_RNA', 'nFeature_RNA']))\n",
    "    plt.show()"
   ]
  },
  {
   "cell_type": "code",
   "execution_count": null,
   "id": "03cf75b4-bfcd-43c7-9531-da70275fd045",
   "metadata": {},
   "outputs": [],
   "source": [
    "for x in adata.obs.columns[1:]:\n",
    "    sns.kdeplot(data=adata.obs, x=x, hue='sample', fill=False, log_scale=(x in ['nCount_RNA', 'nFeature_RNA']))\n",
    "    plt.show()"
   ]
  },
  {
   "cell_type": "markdown",
   "id": "5a05831d-a232-47d9-893a-cb1cbff0ff22",
   "metadata": {},
   "source": [
    "### Apply filters"
   ]
  },
  {
   "cell_type": "code",
   "execution_count": null,
   "id": "c6053b8a-f321-412f-8e6a-b2463a1935e7",
   "metadata": {},
   "outputs": [],
   "source": [
    "adata.obs"
   ]
  },
  {
   "cell_type": "code",
   "execution_count": null,
   "id": "fa1e8918-c266-4960-b8e0-8cc5f2316b70",
   "metadata": {},
   "outputs": [],
   "source": [
    "f = (adata.obs['nFeature_RNA'] > 1000)  & (adata.obs['nFeature_RNA'] < 9000) & (adata.obs['mt_frac'] < 0.2) & (adata.obs['NoveltyScore'] > 0.8)\n",
    "print(f'Removoing {sum(~f)} out of {len(f)} cells ({(sum(~f)/len(f)*100):0.1f}%) that do not pass filters')\n",
    "adata.obs['pass_filter'] = f"
   ]
  },
  {
   "cell_type": "code",
   "execution_count": null,
   "id": "5ac77e55-863c-4338-a82a-26441299f3c0",
   "metadata": {},
   "outputs": [],
   "source": [
    "# this just looks at fraction of cells passing filter per sample\n",
    "adata.obs[['sample', 'pass_filter']].groupby('sample').mean()"
   ]
  },
  {
   "cell_type": "code",
   "execution_count": null,
   "id": "2df10df6-4e00-4fe3-9a25-1e47644b6ec4",
   "metadata": {},
   "outputs": [],
   "source": [
    "# now do the subsetting\n",
    "adata = adata[adata.obs['pass_filter']]\n",
    "print(adata.shape)"
   ]
  },
  {
   "cell_type": "markdown",
   "id": "83e40443-3082-4fc9-a3ad-4b8822b7d248",
   "metadata": {},
   "source": [
    "## Log normalize\n",
    "\n",
    "After log normalizing, adata.X to log-normalized version, as this is default that we will want to use for most analysis"
   ]
  },
  {
   "cell_type": "code",
   "execution_count": null,
   "id": "fb201870-f11f-4377-9c5b-173edb506a6b",
   "metadata": {},
   "outputs": [],
   "source": [
    "sc.pp.normalize_total(adata, target_sum=10000, inplace=True)"
   ]
  },
  {
   "cell_type": "code",
   "execution_count": null,
   "id": "a2036254-03ec-40a5-bee6-fe5254fd533b",
   "metadata": {},
   "outputs": [],
   "source": [
    "np.sum(adata.X, axis=1)"
   ]
  },
  {
   "cell_type": "code",
   "execution_count": null,
   "id": "493b110c-daba-4405-8f5c-42c9b0b526c8",
   "metadata": {},
   "outputs": [],
   "source": [
    "np.max(adata.X)"
   ]
  },
  {
   "cell_type": "code",
   "execution_count": null,
   "id": "f926646f-0a8d-4961-a7d6-cd2909588cee",
   "metadata": {},
   "outputs": [],
   "source": [
    "adata.layers['logX'] = sc.pp.log1p(adata.X, copy=True)"
   ]
  },
  {
   "cell_type": "code",
   "execution_count": null,
   "id": "b1f3c5cc-7154-4d68-969a-d0dd7dce0366",
   "metadata": {},
   "outputs": [],
   "source": [
    "adata.layers['X'] = adata.X\n",
    "adata.X = adata.layers['logX']"
   ]
  },
  {
   "cell_type": "code",
   "execution_count": null,
   "id": "e1162eb3-b2e3-4e5a-b990-f2fc3078422d",
   "metadata": {},
   "outputs": [],
   "source": [
    "np.max(adata.layers['X'])"
   ]
  },
  {
   "cell_type": "code",
   "execution_count": null,
   "id": "33e9e54c-22f3-45d2-b77c-8a0f12d301c9",
   "metadata": {},
   "outputs": [],
   "source": [
    "np.max(adata.layers['logX'])"
   ]
  },
  {
   "cell_type": "markdown",
   "id": "5e2fcd6c-2beb-46bf-aa2e-87affd820524",
   "metadata": {},
   "source": [
    "## Choose highly variable genes"
   ]
  },
  {
   "cell_type": "code",
   "execution_count": null,
   "id": "3421de65-3e54-4738-b88b-5e8a1f398d1e",
   "metadata": {},
   "outputs": [],
   "source": [
    "sc.pp.highly_variable_genes(adata, layer='logX', n_top_genes=3000, flavor='seurat_v3', batch_key='sample')"
   ]
  },
  {
   "cell_type": "code",
   "execution_count": null,
   "id": "ddefe1fd-7061-4da0-99af-43e12e8f9ff2",
   "metadata": {},
   "outputs": [],
   "source": [
    "adata.var"
   ]
  },
  {
   "cell_type": "code",
   "execution_count": null,
   "id": "5f9806d1-74d4-4a1a-866b-ba87131fe32c",
   "metadata": {},
   "outputs": [],
   "source": [
    "np.sum(adata.var['highly_variable'])"
   ]
  },
  {
   "cell_type": "code",
   "execution_count": null,
   "id": "a9094101-3bfb-4eda-87a4-112ffa752ee3",
   "metadata": {},
   "outputs": [],
   "source": [
    "sc.pl.highly_variable_genes(adata)"
   ]
  },
  {
   "cell_type": "code",
   "execution_count": null,
   "id": "cdfccf96-a22b-4ea0-98b4-c1dd8b537993",
   "metadata": {},
   "outputs": [],
   "source": [
    "hvgs = list(adata.var.loc[adata.var['highly_variable']].index)"
   ]
  },
  {
   "cell_type": "markdown",
   "id": "393b1d3c-6728-44ad-9309-e7f36ae3dd63",
   "metadata": {},
   "source": [
    "Reduce data to only HVGs"
   ]
  },
  {
   "cell_type": "code",
   "execution_count": null,
   "id": "326a73b4-9f95-490d-81a5-a63ffed96cc7",
   "metadata": {},
   "outputs": [],
   "source": [
    "adata = adata[:,hvgs]"
   ]
  },
  {
   "cell_type": "markdown",
   "id": "068e828b-1d92-4027-8b32-6139673f4fa8",
   "metadata": {},
   "source": [
    "## PCA\n",
    "\n",
    "Here, we run PCA algorithm with large number of PCs (50), then look at the change in variance explained across the PCs. We then usually choose a number around the knee-point of this plot to be the actual number of PCs used for nearest neighbors  / UMAP projection."
   ]
  },
  {
   "cell_type": "code",
   "execution_count": null,
   "id": "164429dd-d1bb-4e07-a7a2-2eca872213e1",
   "metadata": {},
   "outputs": [],
   "source": [
    "adata"
   ]
  },
  {
   "cell_type": "code",
   "execution_count": null,
   "id": "b2c96f82-18ed-4b2e-95bc-9e21bba19594",
   "metadata": {},
   "outputs": [],
   "source": [
    "# want to use log normalized data for PCA analysis\n",
    "adata.X = adata.layers['logX']"
   ]
  },
  {
   "cell_type": "code",
   "execution_count": null,
   "id": "3e819438-6b4c-4a72-94ba-fb618d2dc638",
   "metadata": {},
   "outputs": [],
   "source": [
    "sc.pp.pca(adata, n_comps=50, use_highly_variable=True)"
   ]
  },
  {
   "cell_type": "markdown",
   "id": "30008865-bb65-4fac-8aba-7d0503e3889a",
   "metadata": {},
   "source": [
    "We look at the variance ratio plot to decide how many PCs should be used. Usually choose the 'elbow' of the plot, here it seems to be around 10"
   ]
  },
  {
   "cell_type": "code",
   "execution_count": null,
   "id": "5fc6088b-cd9f-437c-8a06-156e98f7c970",
   "metadata": {},
   "outputs": [],
   "source": [
    "sc.pl.pca_variance_ratio(adata, n_pcs=50, log=True)"
   ]
  },
  {
   "cell_type": "code",
   "execution_count": null,
   "id": "512b8b86-7e9e-4d59-a92a-608d58d8d4ef",
   "metadata": {},
   "outputs": [],
   "source": [
    "# This is equivalent of scanpy function above, to demonstrate where the data is coming from\n",
    "plt.scatter(np.arange(50),\n",
    "            np.log(adata.uns['pca']['variance_ratio']))"
   ]
  },
  {
   "cell_type": "code",
   "execution_count": null,
   "id": "01ef9b1e-383f-45d0-af2a-43856bd53d4b",
   "metadata": {},
   "outputs": [],
   "source": [
    "# this sets the order of the samples and assigns each sample to a color that will be used for scanpy plots\n",
    "adata.obs['sample'] = pd.Categorical(adata.obs['sample'], categories=['TL-IgG1', 'TL-IgG4', 'Untreated'])\n",
    "adata.uns['sample_colors'] = ['#ff7f0e', '#2ca02c', '#1f77b4']"
   ]
  },
  {
   "cell_type": "code",
   "execution_count": null,
   "id": "32592120-a692-449b-9642-9b1452c7adf6",
   "metadata": {},
   "outputs": [],
   "source": [
    "adata.obs['sample'].value_counts()"
   ]
  },
  {
   "cell_type": "code",
   "execution_count": null,
   "id": "7311f283-94ff-45ad-952c-505eee98a519",
   "metadata": {},
   "outputs": [],
   "source": [
    "sc.pl.pca(adata, color='sample', size=20)"
   ]
  },
  {
   "cell_type": "markdown",
   "id": "b3fe4cf5-f83f-43fa-a0ec-ee28d8773083",
   "metadata": {},
   "source": [
    "__Check: the adata structure is sorted by sample, so is the last sample being plotted on top? Try randomizing cells in adata structure__"
   ]
  },
  {
   "cell_type": "code",
   "execution_count": null,
   "id": "09244498-a97e-450f-a648-705598c919eb",
   "metadata": {},
   "outputs": [],
   "source": [
    "# just demonstrating that adata.obs is sorted by sample\n",
    "adata.obs"
   ]
  },
  {
   "cell_type": "code",
   "execution_count": null,
   "id": "a4f60511-24a3-4952-af14-744777b5ed25",
   "metadata": {},
   "outputs": [],
   "source": [
    "# random.sample(list, n) samples n objects from list without replacement\n",
    "# so Our list is the cell names (adata.obs.index), and adata.shape[0] is the total number of cells, so this command returns shuffled list of cells\n",
    "ridx = random.sample(list(adata.obs.index), adata.shape[0])"
   ]
  },
  {
   "cell_type": "code",
   "execution_count": null,
   "id": "88644300-8be9-4b6c-a041-f9b158430b90",
   "metadata": {},
   "outputs": [],
   "source": [
    "sc.pl.pca(adata[ridx], color='sample', size=20)"
   ]
  },
  {
   "cell_type": "markdown",
   "id": "892166e6-d385-4773-8060-6fe4b2243b4e",
   "metadata": {},
   "source": [
    "__This result is a bit easier to interpret. So keep the randomized indexes__"
   ]
  },
  {
   "cell_type": "code",
   "execution_count": null,
   "id": "e10d36fc-80e7-42c7-960c-ad80be5c32bd",
   "metadata": {},
   "outputs": [],
   "source": [
    "adata = adata[ridx]"
   ]
  },
  {
   "cell_type": "code",
   "execution_count": null,
   "id": "8b5b62b0-4f84-436f-b255-ae2fe93314f8",
   "metadata": {},
   "outputs": [],
   "source": [
    "adata.obs"
   ]
  },
  {
   "cell_type": "code",
   "execution_count": null,
   "id": "660fdffa-744f-4a2b-92da-cf98a82e1c8a",
   "metadata": {},
   "outputs": [],
   "source": [
    "sc.pp.neighbors(adata, n_neighbors=20, n_pcs=30)\n",
    "sc.tl.umap(adata, min_dist=0.3, spread=1.0)"
   ]
  },
  {
   "cell_type": "code",
   "execution_count": null,
   "id": "42cc2f35-4e2d-411c-b06b-d2c1e47ef1ac",
   "metadata": {},
   "outputs": [],
   "source": [
    "sc.pl.umap(adata, color='sample', s=10, alpha=0.5)"
   ]
  },
  {
   "cell_type": "markdown",
   "id": "843aa8ff-efbd-4b82-9b79-86453a40f85b",
   "metadata": {},
   "source": [
    "## Clustering\n",
    "Try Louvain clustering algorithm"
   ]
  },
  {
   "cell_type": "code",
   "execution_count": null,
   "id": "c6e25340-2a94-4373-8137-a4a1d738530d",
   "metadata": {},
   "outputs": [],
   "source": [
    "# try three different resolutions\n",
    "for res in [0.25, 0.5, 1]:\n",
    "    key = f'louvain_{res:0.2f}'\n",
    "    sc.tl.louvain(adata, resolution=res, key_added=key)\n",
    "    sc.pl.umap(adata, color=key)\n",
    "    plt.show()"
   ]
  },
  {
   "cell_type": "markdown",
   "id": "729f9481-1410-4999-b1c8-6bc7ead2f0d1",
   "metadata": {},
   "source": [
    "## Load clusters/UMAP from previous week's analysis in Seurat and see how they compare"
   ]
  },
  {
   "cell_type": "markdown",
   "id": "6116a801-0eaa-4395-8e7b-25b89df60f41",
   "metadata": {},
   "source": [
    "This next cell represents 'R magic' in jupyter.\n",
    "\n",
    "The %%R means run this cell in R. It opens an R kernel \n",
    "\n",
    "The -o XXX means to 'output' the variable that will be created in R, back into the python notebook\n",
    "\n",
    "You can also use -i XXX to input from python into the R cell.\n",
    "\n",
    "There are some tools that claim to make R magic work with Seurat objects but I have not had luck with any but the simplest objects. But R magic does seem to work on basic R objects including data frames"
   ]
  },
  {
   "cell_type": "code",
   "execution_count": null,
   "id": "e890378f-72dd-4c29-b548-1000ee00911d",
   "metadata": {},
   "outputs": [],
   "source": [
    "%%R -o seurat_metadata -o seurat_umap\n",
    "require(\"Seurat\")\n",
    "sobj <- readRDS(\"/workdir/sc_workshop_2024/Seurat/03_sobj.clustered.RDS\")\n",
    "seurat_umap <- sobj[[\"umap.unintegrated\"]]@cell.embeddings\n",
    "seurat_metadata = sobj@meta.data\n",
    "rm(sobj)"
   ]
  },
  {
   "cell_type": "code",
   "execution_count": null,
   "id": "981ab79f-464f-46b8-91fc-734365587eff",
   "metadata": {},
   "outputs": [],
   "source": [
    "seurat_umap"
   ]
  },
  {
   "cell_type": "code",
   "execution_count": null,
   "id": "87677896-017b-45a3-b867-b133466ab373",
   "metadata": {},
   "outputs": [],
   "source": [
    "seurat_metadata"
   ]
  },
  {
   "cell_type": "code",
   "execution_count": null,
   "id": "33cdc4a8-2596-49bc-9a9b-f34070f61145",
   "metadata": {},
   "outputs": [],
   "source": [
    "seurat_metadata['umap1'] = seurat_umap[:,0]\n",
    "seurat_metadata['umap2'] = seurat_umap[:,1]"
   ]
  },
  {
   "cell_type": "code",
   "execution_count": null,
   "id": "106d4a86-c410-4a31-8f5f-7bb496a67240",
   "metadata": {},
   "outputs": [],
   "source": [
    "adata.obs"
   ]
  },
  {
   "cell_type": "markdown",
   "id": "d2b1c5eb-3fa2-456f-9bec-b169fe60e0e5",
   "metadata": {},
   "source": [
    "As you can see, there is a mismatch in cell barcodes in the seurat and adata metadata. The seurat ones end in -1_X where X represents the sample. The adata ones end in -1_X2 where X2 is also a sample number, but the mapping is not the same. So we need to fix the seurat barcodes to match adata ones"
   ]
  },
  {
   "cell_type": "code",
   "execution_count": null,
   "id": "58010724-ac4f-4379-b011-f8dc97e99600",
   "metadata": {},
   "outputs": [],
   "source": [
    "# this code makes a mapping of sample numbers to numbers at the end of the adata barcodes\n",
    "tmp = adata.obs[['sample']].copy()\n",
    "tmp['sample-suffix'] = [x.split('-')[1] for x in tmp.index]\n",
    "sample_map = tmp.set_index('sample').to_dict()['sample-suffix']\n",
    "sample_map"
   ]
  },
  {
   "cell_type": "code",
   "execution_count": null,
   "id": "7f2b1698-94e6-4077-8a10-22a32eb5e7fc",
   "metadata": {},
   "outputs": [],
   "source": [
    "seurat_metadata['new_barcode'] = [x.split('-')[0] for x in seurat_metadata.index] \n",
    "seurat_metadata['sample_num'] = [sample_map[x] for x in seurat_metadata['orig.ident']]\n",
    "seurat_metadata['new_barcode'] = seurat_metadata['new_barcode']  + '-' + seurat_metadata['sample_num']\n",
    "seurat_metadata.set_index('new_barcode', drop=True, inplace=True)"
   ]
  },
  {
   "cell_type": "code",
   "execution_count": null,
   "id": "88bce849-ebe5-4113-9746-b9cf7741506d",
   "metadata": {},
   "outputs": [],
   "source": [
    "# check the barcodes should be fixed now\n",
    "seurat_metadata"
   ]
  },
  {
   "cell_type": "code",
   "execution_count": null,
   "id": "f1793e68-2644-4d94-9e50-c30acca8e9ef",
   "metadata": {},
   "outputs": [],
   "source": [
    "# merge adata.obs with Seurat metadata into one data frame\n",
    "merged_metadata = adata.obs.merge(seurat_metadata, left_index=True, right_index=True, how='inner', suffixes=('', '_seurat'))"
   ]
  },
  {
   "cell_type": "code",
   "execution_count": null,
   "id": "98efbbdb-25b6-4a3d-beb0-8c1aa320aff5",
   "metadata": {},
   "outputs": [],
   "source": [
    "merged_metadata"
   ]
  },
  {
   "cell_type": "markdown",
   "id": "63ececb7-b2cc-4b48-a223-bd73bed1cbd9",
   "metadata": {},
   "source": [
    "Now we have both sets of clusters in the same data frame, we can compare"
   ]
  },
  {
   "cell_type": "code",
   "execution_count": null,
   "id": "29f46b09-2566-43d9-9a3f-16d2eda97cc3",
   "metadata": {},
   "outputs": [],
   "source": [
    "adjusted_rand_score(merged_metadata['seurat_clusters'], merged_metadata['louvain_1.00'])"
   ]
  },
  {
   "cell_type": "code",
   "execution_count": null,
   "id": "177f123a-5402-47d0-9c62-3965c59b0282",
   "metadata": {},
   "outputs": [],
   "source": [
    "adjusted_rand_score(merged_metadata['seurat_clusters'], merged_metadata['louvain_0.50'])"
   ]
  },
  {
   "cell_type": "code",
   "execution_count": null,
   "id": "7b0bc8e3-b714-401d-a74d-23021e6cb5f9",
   "metadata": {},
   "outputs": [],
   "source": [
    "adjusted_rand_score(merged_metadata['seurat_clusters'], merged_metadata['louvain_0.25'])"
   ]
  },
  {
   "cell_type": "code",
   "execution_count": null,
   "id": "0a5ad698-8677-40cd-90fb-0eb0f71e7be3",
   "metadata": {},
   "outputs": [],
   "source": [
    "adjusted_rand_score(merged_metadata['louvain_0.25'], merged_metadata['louvain_0.50'])"
   ]
  },
  {
   "cell_type": "code",
   "execution_count": null,
   "id": "022ece08-8443-4dec-96dc-07e0652213f3",
   "metadata": {},
   "outputs": [],
   "source": [
    "adjusted_rand_score(merged_metadata['louvain_0.50'], merged_metadata['louvain_1.00'])"
   ]
  },
  {
   "cell_type": "code",
   "execution_count": null,
   "id": "3e48a031-a2bd-49fb-89c4-8047ea3919b1",
   "metadata": {},
   "outputs": [],
   "source": [
    "# This plot is a heatmap, the color represents how many cells assigned to a given Louvain / Seurat cluster combination\n",
    "counts = merged_metadata[['seurat_clusters', 'louvain_1.00']].value_counts().reset_index().pivot(index='seurat_clusters', columns='louvain_1.00', values='count')\n",
    "counts[np.isnan(counts)] = 0\n",
    "plt.imshow(counts, cmap='Greys')\n",
    "plt.ylabel('seurat cluster')\n",
    "plt.xlabel('louvain_cluster')"
   ]
  },
  {
   "cell_type": "code",
   "execution_count": null,
   "id": "1101b5ea-dde3-4e83-95c4-8454fd032a4a",
   "metadata": {},
   "outputs": [],
   "source": [
    "# same plot as above but colors are on a log scale, helps to see outliers\n",
    "plt.imshow(np.log(counts+1), cmap='Greys')\n",
    "plt.ylabel('seurat cluster')\n",
    "plt.xlabel('louvain_cluster')"
   ]
  },
  {
   "cell_type": "markdown",
   "id": "d4e60fd5-a6c0-4460-b247-08b8ac17e7ff",
   "metadata": {},
   "source": [
    "Overall it appears that the clustering is reasonably similar, though with some noise in a small fraction of cells"
   ]
  },
  {
   "cell_type": "markdown",
   "id": "dea3a25a-9b30-46a0-b25e-0671b4c67391",
   "metadata": {},
   "source": [
    "## Harmony integration\n",
    "\n",
    "There are several integration methods available in the scanpy external API, see https://scanpy.readthedocs.io/en/stable/external.html\n",
    "\n",
    "Besides harmony, there is scanorama, bbknn, mnn_correct"
   ]
  },
  {
   "cell_type": "code",
   "execution_count": null,
   "id": "af728004-5982-4af0-ba83-4692091247c3",
   "metadata": {},
   "outputs": [],
   "source": [
    "sce.pp.harmony_integrate(adata, key='sample')"
   ]
  },
  {
   "cell_type": "code",
   "execution_count": null,
   "id": "40cb705c-8f03-4def-b484-e6cb33e6e2d1",
   "metadata": {},
   "outputs": [],
   "source": [
    "# Check - the harmony integration added obsm['X_pca_harmony'] to the adata structure\n",
    "adata"
   ]
  },
  {
   "cell_type": "code",
   "execution_count": null,
   "id": "165c5489-7c7e-4b00-a098-4e980aed5206",
   "metadata": {},
   "outputs": [],
   "source": [
    "sc.pl.embedding(adata, basis='X_pca_harmony', color='sample', s=20)"
   ]
  },
  {
   "cell_type": "markdown",
   "id": "74c10a1c-4a7c-4959-a592-db7cb96c0493",
   "metadata": {},
   "source": [
    "Redo UMAP with new PCs"
   ]
  },
  {
   "cell_type": "code",
   "execution_count": null,
   "id": "66e0cf21-4d36-4dd2-a9f1-804b54a920ce",
   "metadata": {},
   "outputs": [],
   "source": [
    "sc.pp.neighbors(adata, n_neighbors=20, n_pcs=30, use_rep='X_pca_harmony', key_added='neighbors_harmony')\n",
    "adata.obsm['X_umap_orig'] = adata.obsm['X_umap'].copy()\n",
    "sc.tl.umap(adata, min_dist=0.3, spread=1.0, neighbors_key='neighbors_harmony')\n",
    "adata.obsm['X_umap_harmony'] = adata.obsm['X_umap'].copy()\n",
    "adata.obsm['X_umap'] = adata.obsm['X_umap_orig']"
   ]
  },
  {
   "cell_type": "code",
   "execution_count": null,
   "id": "8f2669ec-f084-4e81-8ce2-42e6ffcd250f",
   "metadata": {},
   "outputs": [],
   "source": [
    "sc.pl.embedding(adata, basis='X_umap_harmony', color='sample', s=20)"
   ]
  },
  {
   "cell_type": "code",
   "execution_count": null,
   "id": "e8bcd119-69db-48fb-a2b5-79cea67e3c57",
   "metadata": {},
   "outputs": [],
   "source": [
    "adata"
   ]
  },
  {
   "cell_type": "markdown",
   "id": "7e9a106e-9555-42fa-9c4a-d3f8ed57b349",
   "metadata": {},
   "source": [
    "Clustering with harmony-corrected data"
   ]
  },
  {
   "cell_type": "code",
   "execution_count": null,
   "id": "f6a4d1d9-5c3c-4307-914b-1ab90ad1bf5b",
   "metadata": {},
   "outputs": [],
   "source": [
    "sc.tl.louvain(adata, resolution=1.0, key_added='louvain_1.0_harmony', neighbors_key='neighbors_harmony')"
   ]
  },
  {
   "cell_type": "code",
   "execution_count": null,
   "id": "4c554c53-868f-44c4-acf0-d434c29f845d",
   "metadata": {},
   "outputs": [],
   "source": [
    "sc.pl.embedding(adata, basis='X_umap_harmony', color='louvain_1.0_harmony')"
   ]
  },
  {
   "cell_type": "code",
   "execution_count": null,
   "id": "971b001c-1e31-4ef7-8859-d94708cea73a",
   "metadata": {},
   "outputs": [],
   "source": [
    "merged_metadata = adata.obs.merge(seurat_metadata, left_index=True, right_index=True, how='inner', suffixes=('', '_seurat'))"
   ]
  },
  {
   "cell_type": "code",
   "execution_count": null,
   "id": "97d70d74-5615-4bd9-a8ba-e298821bf575",
   "metadata": {},
   "outputs": [],
   "source": [
    "merged_metadata"
   ]
  },
  {
   "cell_type": "code",
   "execution_count": null,
   "id": "5a6f3dfc-57fe-4774-a3d1-cb9e5f1c3590",
   "metadata": {},
   "outputs": [],
   "source": [
    "adjusted_rand_score(merged_metadata['louvain_1.0_harmony'], merged_metadata['seurat_clusters'])"
   ]
  },
  {
   "cell_type": "code",
   "execution_count": null,
   "id": "d23cbcc5-7615-4234-b600-3ad5274d14af",
   "metadata": {},
   "outputs": [],
   "source": [
    "adjusted_rand_score(merged_metadata['louvain_1.0_harmony'], merged_metadata['louvain_1.00'])"
   ]
  },
  {
   "cell_type": "markdown",
   "id": "ccd47c05-4534-441c-ae57-4768638c1b90",
   "metadata": {},
   "source": [
    "## Find markers\n",
    "\n",
    "scanpy has a function rank_genes_groups that can find DE genes betllsween groups of cells.\n",
    "\n",
    "It can use several methods, including t-test (default), logistic regression, wilcox\n",
    "\n",
    "After running, results are saved to adata.uns['rank_genes_groups'] (unless a different key_added option is added in function call)"
   ]
  },
  {
   "cell_type": "code",
   "execution_count": null,
   "id": "2e5cdf5c-cc1f-483c-8beb-6cd7f7d10c61",
   "metadata": {},
   "outputs": [],
   "source": [
    "# This will compute differential expression scores for each cluster vs all others\n",
    "sc.tl.rank_genes_groups(adata, groupby='louvain_1.0_harmony', method='t-test')"
   ]
  },
  {
   "cell_type": "code",
   "execution_count": null,
   "id": "9569117e-aadd-44b3-80dd-8c09904f1fa7",
   "metadata": {},
   "outputs": [],
   "source": [
    "adata.uns['rank_genes_groups']['params']"
   ]
  },
  {
   "cell_type": "code",
   "execution_count": null,
   "id": "98d73b92-6f3f-4ecc-91f4-8a7e725e93f2",
   "metadata": {},
   "outputs": [],
   "source": [
    "# The data strucutre returned by rank_genes_groups is a bit ocmplex to parse,\n",
    "# but scanpy provides an easy function to turn it into a data frame\n",
    "\n",
    "df = sc.get.rank_genes_groups_df(adata, group=None)\n",
    "df"
   ]
  },
  {
   "cell_type": "code",
   "execution_count": null,
   "id": "24aca0d4-65b1-491e-90e6-58ba372f3634",
   "metadata": {},
   "outputs": [],
   "source": [
    "df.loc[df['group']=='0']"
   ]
  },
  {
   "cell_type": "code",
   "execution_count": null,
   "id": "589ea3ba-1ab7-4289-86cd-655b6f93031f",
   "metadata": {},
   "outputs": [],
   "source": [
    "# Here are two top genes that differentiate cluster 0 vs all others (one positive, one negative)\n",
    "\n",
    "# As you can see these genes are generally differentially expressed but do not 'define' cluster 0. \n",
    "sc.pl.embedding(adata, basis='X_umap_harmony', color=['louvain_1.0_harmony', 'LTB', 'NKG7'])"
   ]
  },
  {
   "cell_type": "code",
   "execution_count": null,
   "id": "5084f72a-2573-45f1-8867-0ebc4f53852c",
   "metadata": {},
   "outputs": [],
   "source": [
    "# To get genes that 'define' cluster zero it may be better to compare it to neighboring clusters\n",
    "sc.tl.rank_genes_groups(adata, groupby='louvain_1.0_harmony', groups=['0', '1'])"
   ]
  },
  {
   "cell_type": "code",
   "execution_count": null,
   "id": "6b766403-f174-41bc-a8a8-41c79d09b14d",
   "metadata": {},
   "outputs": [],
   "source": [
    "small_adata = adata[adata.obs['louvain_1.0_harmony'].isin(['0','1'])].copy()\n",
    "sc.tl.rank_genes_groups(small_adata, 'louvain_1.0_harmony')\n",
    "df2 = sc.get.rank_genes_groups_df(small_adata, group=None)\n",
    "del(small_adata)\n",
    "df2.loc[df2['group'] == '0']"
   ]
  },
  {
   "cell_type": "code",
   "execution_count": null,
   "id": "5d3862c0-0f7c-4f23-851f-ff69f9fa0299",
   "metadata": {},
   "outputs": [],
   "source": [
    "# Now we see some genes that really definwe cluster 0\n",
    "sc.pl.embedding(adata, basis='X_umap_harmony', color=['louvain_1.0_harmony', 'LEF1', 'KLRB1'])"
   ]
  },
  {
   "cell_type": "markdown",
   "id": "c954ea7f-38cc-4e47-97e8-9f295aaccbd0",
   "metadata": {},
   "source": [
    "## Imputation\n",
    "\n",
    "This command takes a long time! \n",
    "\n",
    "\n",
    "To demonstrate, we will use it on a small number of HVGs from clusters 0 and 1 only"
   ]
  },
  {
   "cell_type": "code",
   "execution_count": null,
   "id": "7db755b6-0a9e-4a74-8f98-710f871d9624",
   "metadata": {},
   "outputs": [],
   "source": [
    "f = adata.obs['louvain_1.0_harmony'].isin(['0', '1'])\n",
    "small_adata = adata[f, ].copy()"
   ]
  },
  {
   "cell_type": "code",
   "execution_count": null,
   "id": "0b8c254e-579c-4dc9-8777-01a271272f17",
   "metadata": {},
   "outputs": [],
   "source": [
    "small_adata.layers['X'][:100,:5]"
   ]
  },
  {
   "cell_type": "code",
   "execution_count": null,
   "id": "65b548bc-7437-42ee-a10e-2e7b0a7e5acb",
   "metadata": {},
   "outputs": [],
   "source": [
    "# recall HVGs in this small set\n",
    "sc.pp.highly_variable_genes(small_adata, layer='logX', n_top_genes=100, flavor='seurat_v3', batch_key='sample')"
   ]
  },
  {
   "cell_type": "code",
   "execution_count": null,
   "id": "e63470f4-49c6-467d-abaa-9c6cde5f081f",
   "metadata": {},
   "outputs": [],
   "source": [
    "small_adata"
   ]
  },
  {
   "cell_type": "code",
   "execution_count": null,
   "id": "7ecdc9ee-716a-4ae0-8888-05fba46157ef",
   "metadata": {},
   "outputs": [],
   "source": [
    "small_hvgs = list(small_adata.var.loc[small_adata.var['highly_variable']].index)\n",
    "len(small_hvgs)"
   ]
  },
  {
   "cell_type": "markdown",
   "id": "bdd827f1-34a4-4473-b7cd-cb5af3a44051",
   "metadata": {},
   "source": [
    "Note: Normally, when subsetting to a subset of the data (such as a cell type), you would redo PC and UMAP. For the sake of time we will skip that, you may try as an exercise. Make sure to first redo neighbors, as that is input to the PC algorithm."
   ]
  },
  {
   "cell_type": "code",
   "execution_count": null,
   "id": "b5a76d00-2d12-4514-bd94-60f867eb92eb",
   "metadata": {},
   "outputs": [],
   "source": [
    "small_adata = small_adata[:,small_hvgs]"
   ]
  },
  {
   "cell_type": "code",
   "execution_count": null,
   "id": "3e6732f1-0594-49cd-9205-c70864cc6ba3",
   "metadata": {},
   "outputs": [],
   "source": [
    "small_adata.var"
   ]
  },
  {
   "cell_type": "code",
   "execution_count": null,
   "id": "b311bc7c-9362-4c36-b1b6-45e71243cc98",
   "metadata": {},
   "outputs": [],
   "source": [
    "testgenes = ['S100A4', 'AL136456.1', 'BTG2', 'LINC01871', 'MARCKS', 'KLHL4']"
   ]
  },
  {
   "cell_type": "code",
   "execution_count": null,
   "id": "dd48ac89-c9c1-4784-846b-c0ff729184de",
   "metadata": {},
   "outputs": [],
   "source": [
    "#testgenes = list(small_adata.var.index[:4])\n",
    "sc.pl.umap(small_adata, color=testgenes, ncols=3, cmap='plasma', s=20)"
   ]
  },
  {
   "cell_type": "markdown",
   "id": "6349981f-edbd-42f5-9b2a-041a50864b87",
   "metadata": {},
   "source": [
    "The magic algorithm returns an andata with imputed expression values in the .X matrix for the genes requested"
   ]
  },
  {
   "cell_type": "code",
   "execution_count": null,
   "id": "c45f395c-86f3-4fc5-8bd4-e4de0c0652e2",
   "metadata": {},
   "outputs": [],
   "source": [
    "mdata = sce.pp.magic(small_adata, name_list=testgenes)"
   ]
  },
  {
   "cell_type": "markdown",
   "id": "a891af1d-0d08-41be-bb4d-4166441e192a",
   "metadata": {},
   "source": [
    "Compare UMAP of imputed expression to what we saw earlier"
   ]
  },
  {
   "cell_type": "code",
   "execution_count": null,
   "id": "ca19af0a-b9d2-421f-9d87-1b98de2e7214",
   "metadata": {},
   "outputs": [],
   "source": [
    "# I am not sure why this step is necessary (extra credit to anyone who can figure it out!) But plotting mdata was giving same results as small_adata, it was not using correct expression values\n",
    "mdata2 = sc.AnnData(X=mdata.X, obs=small_adata.obs[['sample']], var=small_adata.var.loc[testgenes]).copy()\n",
    "mdata2.obsm['X_umap'] = small_adata.obsm['X_umap'].copy()"
   ]
  },
  {
   "cell_type": "code",
   "execution_count": null,
   "id": "a542bceb-c02d-4055-b373-b9105fcdfab5",
   "metadata": {},
   "outputs": [],
   "source": [
    "sc.pl.umap(mdata2, color=testgenes, ncols=3, cmap='plasma', s=20, layer=None)"
   ]
  },
  {
   "cell_type": "code",
   "execution_count": null,
   "id": "97d5d479-49b5-42ea-8d46-608f47654a5f",
   "metadata": {},
   "outputs": [],
   "source": [
    "# here, you see that plotting mdata looks the same as plotting small_adata.\n",
    "mdata.obsm['X_umap'] = small_adata.obsm['X_umap'].copy()\n",
    "sc.pl.umap(mdata, color=testgenes, ncols=3, cmap='plasma', s=20, layer=None)"
   ]
  },
  {
   "cell_type": "markdown",
   "id": "07a8ec0d-27ec-41a9-bbfb-49bf2670add2",
   "metadata": {},
   "source": [
    "Look at distribution of gene expression before/after magic imputation."
   ]
  },
  {
   "cell_type": "code",
   "execution_count": null,
   "id": "9a05be4b-7ba8-4d3a-9f49-f7e1f509e2f1",
   "metadata": {},
   "outputs": [],
   "source": [
    "gene = testgenes[0]\n",
    "plt.hist(np.array(mdata[:,gene].X).flatten(), bins=50, alpha=0.5, label='Imputed')\n",
    "plt.hist(np.array(small_adata[:,gene].X.todense()).flatten(), bins=50, alpha=0.5, label='Un-imputed')\n",
    "print(sum(np.array(mdata[:,gene].X).flatten() > 0))\n",
    "plt.yscale('log')\n",
    "plt.legend()\n",
    "plt.xlabel(f'{gene} expression')\n",
    "plt.ylabel('number of cells')"
   ]
  },
  {
   "cell_type": "code",
   "execution_count": null,
   "id": "868358b1-99ff-4581-8f2d-c2da788fe45a",
   "metadata": {},
   "outputs": [],
   "source": [
    "plt.scatter(np.array(small_adata[:,gene].X.todense()).flatten(),\n",
    "            np.array(mdata[:,gene].X).flatten(), alpha=0.2)\n",
    "plt.xlabel(f'Unimputed {gene} expression')\n",
    "plt.ylabel(f'imputed {gene} expression')"
   ]
  },
  {
   "cell_type": "markdown",
   "id": "266ad972-e168-4718-a692-056333511690",
   "metadata": {},
   "source": [
    "What did imputation do to the distribution? "
   ]
  },
  {
   "cell_type": "markdown",
   "id": "cd5d1cf4-debd-4c96-9e34-d556f5d2af17",
   "metadata": {},
   "source": [
    "## Write adata to disk, read into R"
   ]
  },
  {
   "cell_type": "code",
   "execution_count": null,
   "id": "3a4c7a8f-577b-4768-b988-14cec1c83376",
   "metadata": {},
   "outputs": [],
   "source": [
    "# convert matrix to dense format, it is easier to parse\n",
    "adata.layers['logX'] = np.array(adata.layers['logX'].todense())\n",
    "adata.write(f'adata_save.h5ad')"
   ]
  },
  {
   "cell_type": "markdown",
   "id": "8d541704-e89e-46fc-90ef-152de77c97bf",
   "metadata": {},
   "source": [
    "Can we load this data in R? Let's try some magic"
   ]
  },
  {
   "cell_type": "code",
   "execution_count": null,
   "id": "f71b477d-9c71-4d83-ad52-071c21aa73e0",
   "metadata": {},
   "outputs": [],
   "source": [
    "%%R \n",
    "require(\"rhdf5\")   #This is R package for reading h5 files\n",
    "## given h5ad anndata file, return given column from adata.obs\n",
    "readObsFromh5File <- function(infile, colname) {\n",
    "    tmp <- h5ls(infile)\n",
    "    w <- which(tmp$name == colname & tmp$otype==\"H5I_DATASET\")\n",
    "    if (length(w) == 1) {\n",
    "        return(h5read(infile, sprintf(\"/obs/%s\", colname)))\n",
    "    }\n",
    "    w <- which(tmp$group == sprintf(\"/obs/%s\", colname))\n",
    "    if (length(w) == 1) {\n",
    "        return(h5read(infile, sprintf(\"/obs/%s\", colname)))\n",
    "    }\n",
    "    if (length(w) == 2) {\n",
    "        w2 <- which(tmp[w,]$name==\"categories\")\n",
    "        catNames <- h5read(infile, sprintf(\"%s/%s\", tmp[w,][w2,\"group\"], tmp[w,][w2,\"name\"]))\n",
    "        w2 <- which(tmp[w,]$name == \"codes\")\n",
    "        return(catNames[as.numeric(h5read(infile, sprintf(\"%s/%s\", tmp[w,][w2, \"group\"], tmp[w,][w2, \"name\"])))+1])\n",
    "    }\n",
    "    stop(\"Error reading \", colname, \" from \", infile)\n",
    "}\n",
    "\n",
    "\n",
    "infile <- \"adata_save.h5ad\"\n",
    "counts <- h5read(infile, \"/layers/logX\")\n",
    "cellNames <- as.character(h5read(infile, \"/obs/_index\"))\n",
    "geneNames <- as.character(h5read(infile, \"/var/_index\"))\n",
    "samples <- as.character(readObsFromh5File(infile, \"sample\"))\n",
    "print(table(samples))"
   ]
  },
  {
   "cell_type": "code",
   "execution_count": null,
   "id": "5f183566-83dd-4969-8b1c-bf62db9b9bfe",
   "metadata": {},
   "outputs": [],
   "source": [
    "%%R\n",
    "print(length(geneNames))\n",
    "print(length(cellNames))\n",
    "print(class(counts))\n",
    "print(dim(counts))"
   ]
  },
  {
   "cell_type": "code",
   "execution_count": null,
   "id": "a71ab851-03b4-4d78-a186-a9330bc326f0",
   "metadata": {},
   "outputs": [],
   "source": []
  }
 ],
 "metadata": {
  "kernelspec": {
   "display_name": "Python 3 (ipykernel)",
   "language": "python",
   "name": "python3"
  },
  "language_info": {
   "codemirror_mode": {
    "name": "ipython",
    "version": 3
   },
   "file_extension": ".py",
   "mimetype": "text/x-python",
   "name": "python",
   "nbconvert_exporter": "python",
   "pygments_lexer": "ipython3",
   "version": "3.10.12"
  }
 },
 "nbformat": 4,
 "nbformat_minor": 5
}
